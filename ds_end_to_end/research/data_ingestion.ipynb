{
 "cells": [
  {
   "cell_type": "code",
   "execution_count": 1,
   "id": "de13b960",
   "metadata": {},
   "outputs": [
    {
     "name": "stdout",
     "output_type": "stream",
     "text": [
      "Added '/home/mushfiq/Desktop/End-to-End-MLOPS/ds_end_to_end' to sys.path.\n",
      "\n",
      "--- Current sys.path for debugging: ---\n",
      "- /home/mushfiq/Desktop/End-to-End-MLOPS/ds_end_to_end\n",
      "- /home/mushfiq/anaconda3/envs/mlops/lib/python312.zip\n",
      "- /home/mushfiq/anaconda3/envs/mlops/lib/python3.12\n",
      "- /home/mushfiq/anaconda3/envs/mlops/lib/python3.12/lib-dynload\n",
      "- \n",
      "- /home/mushfiq/anaconda3/envs/mlops/lib/python3.12/site-packages\n",
      "---------------------------------------\n"
     ]
    }
   ],
   "source": [
    "import os\n",
    "import sys\n",
    "from pathlib import Path\n",
    "\n",
    "current_notebook_location = Path(os.getcwd())\n",
    "package_container_dir = current_notebook_location.parent\n",
    "\n",
    "path_to_add = str(package_container_dir.resolve())\n",
    "\n",
    "if path_to_add not in sys.path:\n",
    "    sys.path.insert(0, path_to_add)\n",
    "    print(f\"Added '{path_to_add}' to sys.path.\")\n",
    "else:\n",
    "    print(f\"'{path_to_add}' is already in sys.path.\")\n",
    "\n",
    "print(\"\\n--- Current sys.path for debugging: ---\")\n",
    "for path in sys.path:\n",
    "    print(f\"- {path}\")\n",
    "print(\"---------------------------------------\")"
   ]
  },
  {
   "cell_type": "code",
   "execution_count": 2,
   "id": "a6012d35",
   "metadata": {},
   "outputs": [],
   "source": [
    "import os\n",
    "from dataclasses import dataclass\n",
    "from pathlib import Path\n",
    "import urllib.request as request\n",
    "import zipfile\n",
    "\n",
    "from src.ds_end_to_end.constants import CONFIG_FILE_PATH, PARAMS_FILE_PATH, SCHEMA_FILE_PATH\n",
    "from src.ds_end_to_end.utils.common import read_yaml, create_directories\n",
    "from src.ds_end_to_end import logger"
   ]
  },
  {
   "cell_type": "code",
   "execution_count": 3,
   "id": "71b204a8",
   "metadata": {},
   "outputs": [],
   "source": [
    "@dataclass\n",
    "class DataIngestionConfig:\n",
    "    root_dir: Path\n",
    "    source_URL: str\n",
    "    local_data_file: Path\n",
    "    unzip_dir: Path"
   ]
  },
  {
   "cell_type": "code",
   "execution_count": 4,
   "id": "dcfb0f15",
   "metadata": {},
   "outputs": [],
   "source": [
    "class ConfigurationManager:\n",
    "    def __init__(\n",
    "        self,\n",
    "        config_filepath: Path = CONFIG_FILE_PATH,\n",
    "        params_filepath: Path = PARAMS_FILE_PATH,\n",
    "        schema_filepath: Path = SCHEMA_FILE_PATH\n",
    "    ):\n",
    "        self.base_path = Path(sys.path[0])\n",
    "\n",
    "        absolute_config_path = self.base_path / config_filepath\n",
    "        absolute_params_path = self.base_path / params_filepath\n",
    "        absolute_schema_path = self.base_path / schema_filepath\n",
    "\n",
    "        self.config = read_yaml(absolute_config_path)\n",
    "        self.params = read_yaml(absolute_params_path)\n",
    "        self.schema = read_yaml(absolute_schema_path)\n",
    "\n",
    "        create_directories([self.base_path / Path(self.config.artifacts_root)])\n",
    "\n",
    "    def get_data_ingestion_config(self) -> DataIngestionConfig:\n",
    "        config = self.config.data_ingestion\n",
    "\n",
    "        ingestion_root_dir = self.base_path / Path(config.root_dir)\n",
    "        ingestion_local_data_file = self.base_path / Path(config.local_data_file)\n",
    "        ingestion_unzip_dir = self.base_path / Path(config.unzip_dir)\n",
    "\n",
    "        create_directories([ingestion_root_dir])\n",
    "\n",
    "        data_ingestion_config = DataIngestionConfig(\n",
    "            root_dir=ingestion_root_dir,\n",
    "            source_URL=config.source_URL,\n",
    "            local_data_file=ingestion_local_data_file,\n",
    "            unzip_dir=ingestion_unzip_dir\n",
    "        )\n",
    "\n",
    "        return data_ingestion_config"
   ]
  },
  {
   "cell_type": "code",
   "execution_count": 5,
   "id": "1c60aa2e",
   "metadata": {},
   "outputs": [],
   "source": [
    "class DataIngestion:\n",
    "    def __init__(self, config: DataIngestionConfig):\n",
    "        self.config = config\n",
    "\n",
    "    def download_file(self):\n",
    "        if not self.config.local_data_file.exists():\n",
    "            filename, headers = request.urlretrieve(\n",
    "                url = self.config.source_URL,\n",
    "                filename = str(self.config.local_data_file)\n",
    "            )\n",
    "            logger.info(f\"{filename} download! with following info: \\n{headers}\")\n",
    "        else:\n",
    "            logger.info(f\"File '{self.config.local_data_file}' already exists!\")\n",
    "\n",
    "    def extract_zip_file(self):\n",
    "        \"\"\"\n",
    "        Extracts the zip file into the data directory\n",
    "        \"\"\"\n",
    "        unzip_path = self.config.unzip_dir\n",
    "        with zipfile.ZipFile(self.config.local_data_file, 'r') as zip_ref:\n",
    "            zip_ref.extractall(unzip_path)\n",
    "        logger.info(f\"Zip file extracted to: {unzip_path}\")"
   ]
  },
  {
   "cell_type": "code",
   "execution_count": 6,
   "id": "320b18e3",
   "metadata": {},
   "outputs": [
    {
     "name": "stdout",
     "output_type": "stream",
     "text": [
      "[2025-07-22 13:36:50,127: INFO: common: yaml file: /home/mushfiq/Desktop/End-to-End-MLOPS/ds_end_to_end/config/config.yaml loaded successfully]\n",
      "[2025-07-22 13:36:50,128: INFO: common: yaml file: /home/mushfiq/Desktop/End-to-End-MLOPS/ds_end_to_end/params.yaml loaded successfully]\n",
      "[2025-07-22 13:36:50,130: INFO: common: yaml file: /home/mushfiq/Desktop/End-to-End-MLOPS/ds_end_to_end/schema.yaml loaded successfully]\n",
      "[2025-07-22 13:36:51,212: INFO: 966646210: /home/mushfiq/Desktop/End-to-End-MLOPS/ds_end_to_end/artifacts/data_ingestion/data.zip download! with following info: \n",
      "Connection: close\n",
      "Content-Length: 23329\n",
      "Cache-Control: max-age=300\n",
      "Content-Security-Policy: default-src 'none'; style-src 'unsafe-inline'; sandbox\n",
      "Content-Type: application/zip\n",
      "ETag: \"c69888a4ae59bc5a893392785a938ccd4937981c06ba8a9d6a21aa52b4ab5b6e\"\n",
      "Strict-Transport-Security: max-age=31536000\n",
      "X-Content-Type-Options: nosniff\n",
      "X-Frame-Options: deny\n",
      "X-XSS-Protection: 1; mode=block\n",
      "X-GitHub-Request-Id: A904:1CF3A8:1EDB1E:22A0D2:687F3F92\n",
      "Accept-Ranges: bytes\n",
      "Date: Tue, 22 Jul 2025 07:36:51 GMT\n",
      "Via: 1.1 varnish\n",
      "X-Served-By: cache-sin-wsss1830042-SIN\n",
      "X-Cache: MISS\n",
      "X-Cache-Hits: 0\n",
      "X-Timer: S1753169811.899640,VS0,VE291\n",
      "Vary: Authorization,Accept-Encoding\n",
      "Access-Control-Allow-Origin: *\n",
      "Cross-Origin-Resource-Policy: cross-origin\n",
      "X-Fastly-Request-ID: 30a1c9077889d820442acb7de46f60e5ca89a22c\n",
      "Expires: Tue, 22 Jul 2025 07:41:51 GMT\n",
      "Source-Age: 0\n",
      "\n",
      "]\n",
      "[2025-07-22 13:36:51,218: INFO: 966646210: Zip file extracted to: /home/mushfiq/Desktop/End-to-End-MLOPS/ds_end_to_end/artifacts/data_ingestion]\n",
      "[2025-07-22 13:36:51,219: INFO: 3929869767: Data Ingestion process completed successfully!]\n"
     ]
    }
   ],
   "source": [
    "try:\n",
    "    config = ConfigurationManager()\n",
    "    data_ingestion_config = config.get_data_ingestion_config()\n",
    "    data_ingestion = DataIngestion(config=data_ingestion_config)\n",
    "    data_ingestion.download_file()\n",
    "    data_ingestion.extract_zip_file()\n",
    "    logger.info(\"Data Ingestion process completed successfully!\")\n",
    "except Exception as e:\n",
    "    logger.exception(f\"Error during Data Ingestion: {e}\")\n",
    "    raise e"
   ]
  }
 ],
 "metadata": {
  "kernelspec": {
   "display_name": "mlops",
   "language": "python",
   "name": "python3"
  },
  "language_info": {
   "codemirror_mode": {
    "name": "ipython",
    "version": 3
   },
   "file_extension": ".py",
   "mimetype": "text/x-python",
   "name": "python",
   "nbconvert_exporter": "python",
   "pygments_lexer": "ipython3",
   "version": "3.12.0"
  }
 },
 "nbformat": 4,
 "nbformat_minor": 5
}
