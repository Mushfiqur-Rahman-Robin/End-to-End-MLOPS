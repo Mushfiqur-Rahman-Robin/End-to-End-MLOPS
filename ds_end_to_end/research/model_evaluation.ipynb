{
 "cells": [
  {
   "cell_type": "code",
   "execution_count": 1,
   "id": "fb3aa6c2",
   "metadata": {},
   "outputs": [
    {
     "data": {
      "text/plain": [
       "True"
      ]
     },
     "execution_count": 1,
     "metadata": {},
     "output_type": "execute_result"
    }
   ],
   "source": [
    "import os\n",
    "from dotenv import load_dotenv\n",
    "\n",
    "load_dotenv()"
   ]
  },
  {
   "cell_type": "code",
   "execution_count": null,
   "id": "f6ebbd83",
   "metadata": {},
   "outputs": [],
   "source": [
    "os.getenv(\"MLFLOW_TRACKING_URI\")\n",
    "os.getenv(\"MLFLOW_TRACKING_USERNAME\")\n",
    "os.getenv(\"MLFLOW_TRACKING_PASSWORD\")"
   ]
  },
  {
   "cell_type": "code",
   "execution_count": 3,
   "id": "f1368270",
   "metadata": {},
   "outputs": [
    {
     "data": {
      "text/plain": [
       "'/home/mushfiq/Desktop/End-to-End-MLOPS/ds_end_to_end/research'"
      ]
     },
     "execution_count": 3,
     "metadata": {},
     "output_type": "execute_result"
    }
   ],
   "source": [
    "%pwd"
   ]
  },
  {
   "cell_type": "code",
   "execution_count": 4,
   "id": "1855b6c5",
   "metadata": {},
   "outputs": [],
   "source": [
    "os.chdir(\"../\")"
   ]
  },
  {
   "cell_type": "code",
   "execution_count": 5,
   "id": "9b8d0141",
   "metadata": {},
   "outputs": [],
   "source": [
    "from dataclasses import dataclass\n",
    "from pathlib import Path\n",
    "\n",
    "@dataclass\n",
    "class ModelEvaluationConfig:\n",
    "    root_dir: Path\n",
    "    test_data_path: Path\n",
    "    model_path: Path\n",
    "    all_params: dict\n",
    "    metric_file_name: Path\n",
    "    target_column: str\n",
    "    mlflow_uri: str"
   ]
  },
  {
   "cell_type": "code",
   "execution_count": 6,
   "id": "cafd2a6a",
   "metadata": {},
   "outputs": [],
   "source": [
    "from src.ds_end_to_end.constants import *\n",
    "from src.ds_end_to_end.utils.common import read_yaml, create_directories, save_json"
   ]
  },
  {
   "cell_type": "code",
   "execution_count": 7,
   "id": "47e33e64",
   "metadata": {},
   "outputs": [],
   "source": [
    "class ConfigurationManager:\n",
    "    def __init__(\n",
    "        self,\n",
    "        config_filepath = CONFIG_FILE_PATH,\n",
    "        params_filepath = PARAMS_FILE_PATH,\n",
    "        schema_filepath = SCHEMA_FILE_PATH):\n",
    "\n",
    "        self.config = read_yaml(config_filepath)\n",
    "        self.params = read_yaml(params_filepath)\n",
    "        self.schema = read_yaml(schema_filepath)\n",
    "\n",
    "        create_directories([self.config.artifacts_root])\n",
    "\n",
    "    def get_model_evaluation_config(self) -> ModelEvaluationConfig:\n",
    "        config = self.config.model_evaluation\n",
    "\n",
    "        params = self.params.ElasticNet\n",
    "        schema = self.schema.TARGET_COLUMN\n",
    "\n",
    "        create_directories([config.root_dir])\n",
    "\n",
    "        model_evaluation_config = ModelEvaluationConfig(\n",
    "            root_dir=Path(config.root_dir),\n",
    "            test_data_path=Path(config.test_data_path), #config.test_data_path,\n",
    "            model_path=Path(config.model_path), #config.model_path,\n",
    "            all_params=params,\n",
    "            metric_file_name=Path(config.metric_file_name), #config.metric_file_name,\n",
    "            target_column=schema.name,\n",
    "            mlflow_uri=os.getenv(\"MLFLOW_TRACKING_URI\"),\n",
    "        )\n",
    "\n",
    "        return model_evaluation_config"
   ]
  },
  {
   "cell_type": "code",
   "execution_count": 8,
   "id": "92bf28da",
   "metadata": {},
   "outputs": [],
   "source": [
    "import pandas as pd\n",
    "from sklearn.metrics import mean_squared_error, mean_absolute_error, r2_score\n",
    "import numpy as np\n",
    "import mlflow\n",
    "import mlflow.sklearn\n",
    "import joblib\n",
    "from pathlib import Path\n",
    "from urllib.parse import urlparse\n",
    "from src.ds_end_to_end import logger"
   ]
  },
  {
   "cell_type": "code",
   "execution_count": null,
   "id": "252f3d0a",
   "metadata": {},
   "outputs": [],
   "source": [
    "class ModelEvaluation:\n",
    "    def __init__(self, config: ModelEvaluationConfig):\n",
    "        self.config = config\n",
    "\n",
    "    def eval_metrics(self, actual, pred):\n",
    "        rmse = np.sqrt(mean_squared_error(actual, pred))\n",
    "        mae = mean_absolute_error(actual, pred)\n",
    "        r2 = r2_score(actual, pred)\n",
    "        return rmse, mae, r2\n",
    "\n",
    "    def log_into_mlflow(self):\n",
    "        test_data = pd.read_csv(self.config.test_data_path)\n",
    "        model = joblib.load(self.config.model_path) # Load the trained model\n",
    "\n",
    "        test_x = test_data.drop([self.config.target_column], axis=1)\n",
    "        test_y = test_data[[self.config.target_column]]\n",
    "\n",
    "        mlflow.set_registry_uri(self.config.mlflow_uri)\n",
    "        # No need to check tracking_url_type_store if we are always using log_artifact\n",
    "        # tracking_url_type_store = urlparse(mlflow.get_tracking_uri()).scheme\n",
    "\n",
    "        with mlflow.start_run():\n",
    "            predicted_qualities = model.predict(test_x)\n",
    "\n",
    "            (rmse, mae, r2) = self.eval_metrics(test_y, predicted_qualities)\n",
    "\n",
    "            # Saving metrics as local JSON file\n",
    "            scores = {\"rmse\": rmse, \"mae\": mae, \"r2\": r2}\n",
    "            save_json(path=self.config.metric_file_name, content=scores)\n",
    "            logger.info(f\"Metrics saved to: {self.config.metric_file_name}\")\n",
    "\n",
    "            # Log parameters and metrics to MLflow\n",
    "            mlflow.log_params(self.config.all_params)\n",
    "            mlflow.log_metric(\"rmse\", rmse)\n",
    "            mlflow.log_metric(\"r2\", r2)\n",
    "            mlflow.log_metric(\"mae\", mae)\n",
    "\n",
    "            mlflow.log_artifact(local_path=str(self.config.model_path), artifact_path=\"model\")\n",
    "            logger.info(f\"Model logged as artifact '{self.config.model_path.name}' to MLflow run.\")\n",
    "\n",
    "        logger.info(\"Metrics and model logged to MLflow successfully!\")"
   ]
  },
  {
   "cell_type": "code",
   "execution_count": 10,
   "id": "c7414e65",
   "metadata": {},
   "outputs": [
    {
     "name": "stdout",
     "output_type": "stream",
     "text": [
      "[2025-07-22 23:18:44,950: INFO: common: yaml file: config/config.yaml loaded successfully]\n",
      "[2025-07-22 23:18:44,955: INFO: common: yaml file: params.yaml loaded successfully]\n",
      "[2025-07-22 23:18:44,964: INFO: common: yaml file: schema.yaml loaded successfully]\n",
      "[2025-07-22 23:18:45,830: INFO: common: json file saved at: artifacts/model_evaluation/metrics.json]\n",
      "[2025-07-22 23:18:45,838: INFO: 2370368008: Metrics saved to: artifacts/model_evaluation/metrics.json]\n",
      "[2025-07-22 23:18:52,080: INFO: 2370368008: Model logged as artifact 'model.joblib' to MLflow run.]\n",
      "🏃 View run serious-doe-242 at: https://dagshub.com/cuetian.mushfiq/End-to-End-MLOPS.mlflow/#/experiments/0/runs/abc55849fd76419daeb86843a7daae8e\n",
      "🧪 View experiment at: https://dagshub.com/cuetian.mushfiq/End-to-End-MLOPS.mlflow/#/experiments/0\n",
      "[2025-07-22 23:18:53,635: INFO: 2370368008: Metrics and model logged to MLflow successfully!]\n"
     ]
    }
   ],
   "source": [
    "try:\n",
    "    config = ConfigurationManager()\n",
    "    model_evaluation_config = config.get_model_evaluation_config()\n",
    "    model_evaluation_config = ModelEvaluation(config=model_evaluation_config)\n",
    "    model_evaluation_config.log_into_mlflow()\n",
    "except Exception as e:\n",
    "    raise e"
   ]
  }
 ],
 "metadata": {
  "kernelspec": {
   "display_name": "mlops",
   "language": "python",
   "name": "python3"
  },
  "language_info": {
   "codemirror_mode": {
    "name": "ipython",
    "version": 3
   },
   "file_extension": ".py",
   "mimetype": "text/x-python",
   "name": "python",
   "nbconvert_exporter": "python",
   "pygments_lexer": "ipython3",
   "version": "3.12.0"
  }
 },
 "nbformat": 4,
 "nbformat_minor": 5
}
